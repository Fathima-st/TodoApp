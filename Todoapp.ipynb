{
  "nbformat": 4,
  "nbformat_minor": 0,
  "metadata": {
    "colab": {
      "provenance": [],
      "authorship_tag": "ABX9TyOoibGGdfNMKtG9i1ybC7rH",
      "include_colab_link": true
    },
    "kernelspec": {
      "name": "python3",
      "display_name": "Python 3"
    },
    "language_info": {
      "name": "python"
    }
  },
  "cells": [
    {
      "cell_type": "markdown",
      "metadata": {
        "id": "view-in-github",
        "colab_type": "text"
      },
      "source": [
        "<a href=\"https://colab.research.google.com/github/Fathima-st/TodoApp/blob/main/Todoapp.ipynb\" target=\"_parent\"><img src=\"https://colab.research.google.com/assets/colab-badge.svg\" alt=\"Open In Colab\"/></a>"
      ]
    },
    {
      "cell_type": "code",
      "execution_count": 18,
      "metadata": {
        "colab": {
          "base_uri": "https://localhost:8080/"
        },
        "id": "BrFb7au8pqXk",
        "outputId": "fc11574a-b632-4677-b450-6f2b47d97975"
      },
      "outputs": [
        {
          "output_type": "stream",
          "name": "stdout",
          "text": [
            "----WELCOME TO THE TASK MANAGEMENT APP----\n",
            "Enter how many tasks you want to add = 2\n",
            "Enter task 1 = reading\n",
            "Enter task 2 = online class\n",
            "Today's tasks are\n",
            "['reading', 'online class']\n",
            "Enter \n",
            "1-Add\n",
            "2-Update\n",
            "3-Delete\n",
            "4-View\n",
            "5-Exit/Stop\n",
            "5\n",
            "Closing the program....\n"
          ]
        }
      ],
      "source": [
        "\n",
        "\n",
        "def task():\n",
        "    tasks = []  # Initialize an empty list to store tasks\n",
        "    print(\"----WELCOME TO THE TASK MANAGEMENT APP----\")\n",
        "    total_task = int(input(\"Enter how many tasks you want to add = \"))\n",
        "    for i in range(1, total_task + 1):\n",
        "        task_name = input(f\"Enter task {i} = \")\n",
        "        tasks.append(task_name)\n",
        "    print(f\"Today's tasks are\\n{tasks}\")\n",
        "\n",
        "    while True:\n",
        "        try:\n",
        "            operation = int(input(\"Enter \\n1-Add\\n2-Update\\n3-Delete\\n4-View\\n5-Exit/Stop\\n\"))\n",
        "            if operation == 1:\n",
        "                add = input(\"Enter task you want to add = \")\n",
        "                tasks.append(add)\n",
        "                print(f\"Task '{add}' has been successfully added.\")\n",
        "            elif operation == 2:\n",
        "                updated_val = input(\"Enter the task name you want to update = \")\n",
        "                if updated_val in tasks:\n",
        "                    up = input(\"Enter new task = \")\n",
        "                    ind = tasks.index(updated_val)\n",
        "                    tasks[ind] = up\n",
        "                    print(f\"Updated task '{updated_val}' to '{up}'.\")\n",
        "                else:\n",
        "                    print(\"Task not found.\")\n",
        "            elif operation == 3:\n",
        "                del_val = input(\"Which task you want to delete = \")\n",
        "                if del_val in tasks:\n",
        "                    ind = tasks.index(del_val)\n",
        "                    del tasks[ind]\n",
        "                    print(f\"Task '{del_val}' has been deleted.\")\n",
        "                else:\n",
        "                    print(\"Task not found.\")\n",
        "            elif operation == 4:\n",
        "                print(f\"Total tasks = {tasks}\")\n",
        "            elif operation == 5:\n",
        "                print(\"Closing the program....\")\n",
        "                break\n",
        "            else:\n",
        "                print(\"Invalid Input. Please enter a number from 1 to 5.\")\n",
        "        except ValueError:\n",
        "            print(\"Invalid Input. Please enter a valid number.\")\n",
        "\n",
        "task()\n",
        "\n"
      ]
    }
  ]
}